{
 "cells": [
  {
   "cell_type": "markdown",
   "id": "56262dca-55f0-4b0e-a4b3-ff142b206c3d",
   "metadata": {},
   "source": [
    "# Pràctica 2\n",
    "\n",
    "L'objectiu d'aquesta segona pràctica es demostrar que heu assolit els conceptes que s'han explicar a l'assignatura i s'han practicat a les sessions presencials, relacionats amb el disseny i l'ús de xarxes neurals.\n",
    "\n",
    "## Enunciat del problema\n",
    "\n",
    "El Caltech 101 és un conjunt de dades àmpliament utilitzat en investigacions relacionades amb el reconeixement i classificació d'imatges. Va ser creat pel grup de Visió per Computador del California Institute of Technology (Caltech).\n",
    "\n",
    "Conté imatges classificades en 101 categories diferents, que inclouen una gran varietat d'objectes i éssers vius, com ara flors, animals, vehicles i aparells quotidians. També inclou una classe addicional anomenada background per a imatges que no pertanyen a cap categoria concreta.\n",
    "\n",
    "**Característiques**:\n",
    "\n",
    "- Hi ha aproximadament 9.146 imatges.\n",
    "- El nombre d'imatges per classe varia, des de 40 fins a 800 per categoria, amb una mitjana de 50 imatges per classe. Es a dir, no està equilibrat.\n",
    "- Les imatges són en color i tenen resolucions variades, al voltant de 200 x 300 píxels.\n",
    "- Cada imatge conté un únic objecte centrat a la imatge.\n",
    "\n",
    "Aquest conjunt de dades es pot descarregar des de la seva pàgina oficial de [Caltech](https://data.caltech.edu/records/mzrjq-6wc02) o també del mòdul Torch Vision de [Pytorch](https://pytorch.org/vision/stable/generated/torchvision.datasets.Caltech101.html).\n",
    "\n",
    "### Tasques a fer\n",
    "Cada una d'aquestes tasques es duran a terme sobre 2 classes que s'assignaran de manera aleatòria a cada grup (veure secció de metodologia).\n",
    "\n",
    "1. **Classificació** de l'objecte que apareix a una imatge. Per resoldre aquesta tasca s'ha de realitzar _fine tunning_  a 3 models diferents que poden ser dels que hem emprat a les sessions pràctiques de l'assignatura i avaluar-los per aquesta tasca. Per altra banda heu de dissenyar un model propi i entrenar-lo desde 0. (7 punts)\n",
    "2. **Detecció** de l'objecte a la imatge mitjançant la seva _bounding box_. Heu de comparar 2 models diferents. (1.5 punts)\n",
    "3. **Segmentació** de l'objecte a la imatge mitjançant la seva màscara, podeu emprar qualsevol model, també repetir-ne de tasques anteriors. (1.5 punts)\n",
    "4. Aplicació d'un mètode d'**explicabilitat** als resultats obtinguts d'alguna de les tasques.  Aquesta tasca és optativa (1 punt extra)\n",
    "\n",
    "### Resultats del treball\n",
    "1. El resultat del treball serà un informe on s'expliqui el procés que s'ha dut a terme per arribar a la que considereu que és millor solució. El document serà en forma.\n",
    "2. Aquest document ha de tenir un llenguatge formal i tècnic i ha d'estar correctament estructurat:\n",
    "   - Introducció al problema que es soluciona.\n",
    "   - Metodologia: anàlisi de les dades, descripció dels models emprats/creats/adaptats, mètriques).\n",
    "   - Experiments realitzats: Una secció per cada tasca. Recordau a emprar taules per comparar els diferents mètodes i mètriques.\n",
    "   - Resultats i discussió dels experiments.\n",
    "   - Conclusions.\n",
    "3. A més del document explicatiu s'ha d'enllaçar un fitxer amb els pesos del millor entrenament de cada una de les xarxes que heu emprat (la que heu dissenyat vosaltres i la que ja existia), de tal manera que el professor pugui validar els resultats sense haver de repetir l'entrenament. Sense l'adjunció (enllaç) d'aquests fitxers la pràctica no es podrà aprovar.\n",
    "## Metodologia\n",
    "\n",
    "Cada grup ha d'apuntar-se al següent [full de càlcul](https://docs.google.com/spreadsheets/d/1WX6i_VtoZabW4H_YRpsygjvOpCFnxiAKNw69QNnCWj4/edit?usp=sharing) **abans de dimarts 17 de desembre a les 09:00h** de tal manera que se li assignaran dues classes sobre les que haurà de fer les tasques abans descrites.\n",
    "\n",
    "## Avaluació\n",
    "\n",
    "- El treball es durà a terme en parelles.\n",
    "- El professor es reserva la possibilitat de convocar als grups a una revisió de la pràctica de forma presencial.\n",
    "- Per la xarxa que vosaltres dissenyeu, només està permés emprar tècniques de disseny i entrenament vistes a classe.\n",
    "- Tot el que no està fet pels alumnes ha d'estar referenciat, en cas contrari es considerarà com una còpia.\n",
    "- Per arribar a la solució és obligatori seguir les bones pràctiques de l'àrea a la preparació de les dades, entrenament i la validació dels resultats.\n",
    "\n",
    "## Data d'entrega\n",
    "\n",
    "Aquest treball es pot entregar fins el dia de l'examen per la convocatòria ordinaria (12/01/21025) a les 23:55 h per la convocatòria extraordinària (03/02/2025) a les 23:55 h.\n"
   ]
  }
 ],
 "metadata": {
  "kernelspec": {
   "display_name": "Python 3 (ipykernel)",
   "language": "python",
   "name": "python3"
  },
  "language_info": {
   "codemirror_mode": {
    "name": "ipython",
    "version": 3
   },
   "file_extension": ".py",
   "mimetype": "text/x-python",
   "name": "python",
   "nbconvert_exporter": "python",
   "pygments_lexer": "ipython3",
   "version": "3.8.19"
  }
 },
 "nbformat": 4,
 "nbformat_minor": 5
}
